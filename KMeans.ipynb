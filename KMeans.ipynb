{
 "cells": [
  {
   "cell_type": "code",
   "execution_count": 1,
   "metadata": {},
   "outputs": [
    {
     "name": "stdout",
     "output_type": "stream",
     "text": [
      "<class 'pandas.core.frame.DataFrame'>\n",
      "RangeIndex: 388235 entries, 0 to 388234\n",
      "Data columns (total 11 columns):\n",
      " #   Column        Non-Null Count   Dtype  \n",
      "---  ------        --------------   -----  \n",
      " 0   temp          388235 non-null  float64\n",
      " 1   dew_point     388235 non-null  float64\n",
      " 2   feels_like    388235 non-null  float64\n",
      " 3   temp_min      388235 non-null  float64\n",
      " 4   temp_max      388235 non-null  float64\n",
      " 5   pressure      388235 non-null  int64  \n",
      " 6   humidity      388235 non-null  int64  \n",
      " 7   wind_speed    388235 non-null  float64\n",
      " 8   wind_deg      388235 non-null  int64  \n",
      " 9   clouds_all    388235 non-null  int64  \n",
      " 10  weather_main  388235 non-null  object \n",
      "dtypes: float64(6), int64(4), object(1)\n",
      "memory usage: 32.6+ MB\n",
      "None\n"
     ]
    }
   ],
   "source": [
    "import pandas as pd\n",
    "import seaborn as sns\n",
    "import matplotlib.pyplot as plt\n",
    "\n",
    "df = pd.read_csv(\"openweatherchennai.csv\", usecols = [\"temp\",\"dew_point\",\"feels_like\",\"temp_min\",\"temp_max\",\"pressure\",\"humidity\",\"wind_speed\",\"wind_deg\",\"clouds_all\",\"weather_main\"])\n",
    "print(df.info())"
   ]
  },
  {
   "cell_type": "code",
   "execution_count": 2,
   "metadata": {},
   "outputs": [
    {
     "data": {
      "text/plain": [
       "temp            0\n",
       "dew_point       0\n",
       "feels_like      0\n",
       "temp_min        0\n",
       "temp_max        0\n",
       "pressure        0\n",
       "humidity        0\n",
       "wind_speed      0\n",
       "wind_deg        0\n",
       "clouds_all      0\n",
       "weather_main    0\n",
       "dtype: int64"
      ]
     },
     "execution_count": 2,
     "metadata": {},
     "output_type": "execute_result"
    }
   ],
   "source": [
    "df.isnull().sum()"
   ]
  },
  {
   "cell_type": "code",
   "execution_count": 3,
   "metadata": {},
   "outputs": [
    {
     "data": {
      "text/html": [
       "<div>\n",
       "<style scoped>\n",
       "    .dataframe tbody tr th:only-of-type {\n",
       "        vertical-align: middle;\n",
       "    }\n",
       "\n",
       "    .dataframe tbody tr th {\n",
       "        vertical-align: top;\n",
       "    }\n",
       "\n",
       "    .dataframe thead th {\n",
       "        text-align: right;\n",
       "    }\n",
       "</style>\n",
       "<table border=\"1\" class=\"dataframe\">\n",
       "  <thead>\n",
       "    <tr style=\"text-align: right;\">\n",
       "      <th></th>\n",
       "      <th>temp</th>\n",
       "      <th>dew_point</th>\n",
       "      <th>feels_like</th>\n",
       "      <th>temp_min</th>\n",
       "      <th>temp_max</th>\n",
       "      <th>pressure</th>\n",
       "      <th>humidity</th>\n",
       "      <th>wind_speed</th>\n",
       "      <th>wind_deg</th>\n",
       "      <th>clouds_all</th>\n",
       "    </tr>\n",
       "  </thead>\n",
       "  <tbody>\n",
       "    <tr>\n",
       "      <th>temp</th>\n",
       "      <td>1.000000</td>\n",
       "      <td>0.041644</td>\n",
       "      <td>0.895410</td>\n",
       "      <td>0.945848</td>\n",
       "      <td>0.929758</td>\n",
       "      <td>-0.633299</td>\n",
       "      <td>-0.623500</td>\n",
       "      <td>0.358674</td>\n",
       "      <td>0.355078</td>\n",
       "      <td>0.049750</td>\n",
       "    </tr>\n",
       "    <tr>\n",
       "      <th>dew_point</th>\n",
       "      <td>0.041644</td>\n",
       "      <td>1.000000</td>\n",
       "      <td>0.388679</td>\n",
       "      <td>0.126664</td>\n",
       "      <td>-0.190014</td>\n",
       "      <td>-0.159318</td>\n",
       "      <td>0.742628</td>\n",
       "      <td>-0.164678</td>\n",
       "      <td>0.005732</td>\n",
       "      <td>0.164028</td>\n",
       "    </tr>\n",
       "    <tr>\n",
       "      <th>feels_like</th>\n",
       "      <td>0.895410</td>\n",
       "      <td>0.388679</td>\n",
       "      <td>1.000000</td>\n",
       "      <td>0.893068</td>\n",
       "      <td>0.740039</td>\n",
       "      <td>-0.609219</td>\n",
       "      <td>-0.299886</td>\n",
       "      <td>0.277763</td>\n",
       "      <td>0.306689</td>\n",
       "      <td>0.079901</td>\n",
       "    </tr>\n",
       "    <tr>\n",
       "      <th>temp_min</th>\n",
       "      <td>0.945848</td>\n",
       "      <td>0.126664</td>\n",
       "      <td>0.893068</td>\n",
       "      <td>1.000000</td>\n",
       "      <td>0.806206</td>\n",
       "      <td>-0.594194</td>\n",
       "      <td>-0.538454</td>\n",
       "      <td>0.388173</td>\n",
       "      <td>0.342704</td>\n",
       "      <td>0.097764</td>\n",
       "    </tr>\n",
       "    <tr>\n",
       "      <th>temp_max</th>\n",
       "      <td>0.929758</td>\n",
       "      <td>-0.190014</td>\n",
       "      <td>0.740039</td>\n",
       "      <td>0.806206</td>\n",
       "      <td>1.000000</td>\n",
       "      <td>-0.572550</td>\n",
       "      <td>-0.744682</td>\n",
       "      <td>0.341951</td>\n",
       "      <td>0.318968</td>\n",
       "      <td>-0.036325</td>\n",
       "    </tr>\n",
       "    <tr>\n",
       "      <th>pressure</th>\n",
       "      <td>-0.633299</td>\n",
       "      <td>-0.159318</td>\n",
       "      <td>-0.609219</td>\n",
       "      <td>-0.594194</td>\n",
       "      <td>-0.572550</td>\n",
       "      <td>1.000000</td>\n",
       "      <td>0.276024</td>\n",
       "      <td>-0.269075</td>\n",
       "      <td>-0.374152</td>\n",
       "      <td>-0.217958</td>\n",
       "    </tr>\n",
       "    <tr>\n",
       "      <th>humidity</th>\n",
       "      <td>-0.623500</td>\n",
       "      <td>0.742628</td>\n",
       "      <td>-0.299886</td>\n",
       "      <td>-0.538454</td>\n",
       "      <td>-0.744682</td>\n",
       "      <td>0.276024</td>\n",
       "      <td>1.000000</td>\n",
       "      <td>-0.379459</td>\n",
       "      <td>-0.219921</td>\n",
       "      <td>0.102270</td>\n",
       "    </tr>\n",
       "    <tr>\n",
       "      <th>wind_speed</th>\n",
       "      <td>0.358674</td>\n",
       "      <td>-0.164678</td>\n",
       "      <td>0.277763</td>\n",
       "      <td>0.388173</td>\n",
       "      <td>0.341951</td>\n",
       "      <td>-0.269075</td>\n",
       "      <td>-0.379459</td>\n",
       "      <td>1.000000</td>\n",
       "      <td>0.322428</td>\n",
       "      <td>0.141797</td>\n",
       "    </tr>\n",
       "    <tr>\n",
       "      <th>wind_deg</th>\n",
       "      <td>0.355078</td>\n",
       "      <td>0.005732</td>\n",
       "      <td>0.306689</td>\n",
       "      <td>0.342704</td>\n",
       "      <td>0.318968</td>\n",
       "      <td>-0.374152</td>\n",
       "      <td>-0.219921</td>\n",
       "      <td>0.322428</td>\n",
       "      <td>1.000000</td>\n",
       "      <td>0.144922</td>\n",
       "    </tr>\n",
       "    <tr>\n",
       "      <th>clouds_all</th>\n",
       "      <td>0.049750</td>\n",
       "      <td>0.164028</td>\n",
       "      <td>0.079901</td>\n",
       "      <td>0.097764</td>\n",
       "      <td>-0.036325</td>\n",
       "      <td>-0.217958</td>\n",
       "      <td>0.102270</td>\n",
       "      <td>0.141797</td>\n",
       "      <td>0.144922</td>\n",
       "      <td>1.000000</td>\n",
       "    </tr>\n",
       "  </tbody>\n",
       "</table>\n",
       "</div>"
      ],
      "text/plain": [
       "                temp  dew_point  feels_like  temp_min  temp_max  pressure  \\\n",
       "temp        1.000000   0.041644    0.895410  0.945848  0.929758 -0.633299   \n",
       "dew_point   0.041644   1.000000    0.388679  0.126664 -0.190014 -0.159318   \n",
       "feels_like  0.895410   0.388679    1.000000  0.893068  0.740039 -0.609219   \n",
       "temp_min    0.945848   0.126664    0.893068  1.000000  0.806206 -0.594194   \n",
       "temp_max    0.929758  -0.190014    0.740039  0.806206  1.000000 -0.572550   \n",
       "pressure   -0.633299  -0.159318   -0.609219 -0.594194 -0.572550  1.000000   \n",
       "humidity   -0.623500   0.742628   -0.299886 -0.538454 -0.744682  0.276024   \n",
       "wind_speed  0.358674  -0.164678    0.277763  0.388173  0.341951 -0.269075   \n",
       "wind_deg    0.355078   0.005732    0.306689  0.342704  0.318968 -0.374152   \n",
       "clouds_all  0.049750   0.164028    0.079901  0.097764 -0.036325 -0.217958   \n",
       "\n",
       "            humidity  wind_speed  wind_deg  clouds_all  \n",
       "temp       -0.623500    0.358674  0.355078    0.049750  \n",
       "dew_point   0.742628   -0.164678  0.005732    0.164028  \n",
       "feels_like -0.299886    0.277763  0.306689    0.079901  \n",
       "temp_min   -0.538454    0.388173  0.342704    0.097764  \n",
       "temp_max   -0.744682    0.341951  0.318968   -0.036325  \n",
       "pressure    0.276024   -0.269075 -0.374152   -0.217958  \n",
       "humidity    1.000000   -0.379459 -0.219921    0.102270  \n",
       "wind_speed -0.379459    1.000000  0.322428    0.141797  \n",
       "wind_deg   -0.219921    0.322428  1.000000    0.144922  \n",
       "clouds_all  0.102270    0.141797  0.144922    1.000000  "
      ]
     },
     "execution_count": 3,
     "metadata": {},
     "output_type": "execute_result"
    }
   ],
   "source": [
    "df.corr(method ='pearson')"
   ]
  },
  {
   "cell_type": "code",
   "execution_count": 4,
   "metadata": {},
   "outputs": [
    {
     "data": {
      "image/png": "[encoded data removed]",
      "text/plain": [
       "<Figure size 1440x1080 with 2 Axes>"
      ]
     },
     "metadata": {
      "needs_background": "light"
     },
     "output_type": "display_data"
    }
   ],
   "source": [
    "plt.figure(figsize=(20,15))\n",
    "cor = df.corr()\n",
    "sns.heatmap(cor, annot = True)\n",
    "plt.show()"
   ]
  },
  {
   "cell_type": "code",
   "execution_count": 5,
   "metadata": {},
   "outputs": [],
   "source": [
    "def correlation(features, threshold):\n",
    "  correlated_features = set()\n",
    "  correlation_matrix = features.corr()\n",
    "  for i in range(len(correlation_matrix.columns)):\n",
    "    for j in range(i):\n",
    "      if abs(correlation_matrix.iloc[i,j])>threshold:\n",
    "        colname = colname = correlation_matrix.columns[i]\n",
    "        correlated_features.add(colname)\n",
    "  return correlated_features"
   ]
  },
  {
   "cell_type": "code",
   "execution_count": 6,
   "metadata": {},
   "outputs": [
    {
     "data": {
      "text/plain": [
       "{'temp_max', 'temp_min'}"
      ]
     },
     "execution_count": 6,
     "metadata": {},
     "output_type": "execute_result"
    }
   ],
   "source": [
    "correlated_features = correlation(df, 0.9)\n",
    "correlated_features"
   ]
  },
  {
   "cell_type": "code",
   "execution_count": 7,
   "metadata": {},
   "outputs": [
    {
     "data": {
      "text/html": [
       "<div>\n",
       "<style scoped>\n",
       "    .dataframe tbody tr th:only-of-type {\n",
       "        vertical-align: middle;\n",
       "    }\n",
       "\n",
       "    .dataframe tbody tr th {\n",
       "        vertical-align: top;\n",
       "    }\n",
       "\n",
       "    .dataframe thead th {\n",
       "        text-align: right;\n",
       "    }\n",
       "</style>\n",
       "<table border=\"1\" class=\"dataframe\">\n",
       "  <thead>\n",
       "    <tr style=\"text-align: right;\">\n",
       "      <th></th>\n",
       "      <th>temp</th>\n",
       "      <th>dew_point</th>\n",
       "      <th>feels_like</th>\n",
       "      <th>pressure</th>\n",
       "      <th>humidity</th>\n",
       "      <th>wind_speed</th>\n",
       "      <th>wind_deg</th>\n",
       "      <th>clouds_all</th>\n",
       "      <th>weather_main</th>\n",
       "    </tr>\n",
       "  </thead>\n",
       "  <tbody>\n",
       "    <tr>\n",
       "      <th>0</th>\n",
       "      <td>23.70</td>\n",
       "      <td>21.59</td>\n",
       "      <td>24.42</td>\n",
       "      <td>1014</td>\n",
       "      <td>88</td>\n",
       "      <td>0.50</td>\n",
       "      <td>360</td>\n",
       "      <td>20</td>\n",
       "      <td>Haze</td>\n",
       "    </tr>\n",
       "    <tr>\n",
       "      <th>1</th>\n",
       "      <td>23.65</td>\n",
       "      <td>21.54</td>\n",
       "      <td>24.37</td>\n",
       "      <td>1014</td>\n",
       "      <td>88</td>\n",
       "      <td>0.50</td>\n",
       "      <td>360</td>\n",
       "      <td>20</td>\n",
       "      <td>Haze</td>\n",
       "    </tr>\n",
       "    <tr>\n",
       "      <th>2</th>\n",
       "      <td>23.25</td>\n",
       "      <td>20.97</td>\n",
       "      <td>23.90</td>\n",
       "      <td>1015</td>\n",
       "      <td>87</td>\n",
       "      <td>2.84</td>\n",
       "      <td>28</td>\n",
       "      <td>18</td>\n",
       "      <td>Clouds</td>\n",
       "    </tr>\n",
       "    <tr>\n",
       "      <th>3</th>\n",
       "      <td>25.63</td>\n",
       "      <td>23.49</td>\n",
       "      <td>26.55</td>\n",
       "      <td>1016</td>\n",
       "      <td>88</td>\n",
       "      <td>1.00</td>\n",
       "      <td>320</td>\n",
       "      <td>20</td>\n",
       "      <td>Clouds</td>\n",
       "    </tr>\n",
       "    <tr>\n",
       "      <th>4</th>\n",
       "      <td>25.70</td>\n",
       "      <td>23.56</td>\n",
       "      <td>26.62</td>\n",
       "      <td>1016</td>\n",
       "      <td>88</td>\n",
       "      <td>1.00</td>\n",
       "      <td>320</td>\n",
       "      <td>20</td>\n",
       "      <td>Clouds</td>\n",
       "    </tr>\n",
       "    <tr>\n",
       "      <th>...</th>\n",
       "      <td>...</td>\n",
       "      <td>...</td>\n",
       "      <td>...</td>\n",
       "      <td>...</td>\n",
       "      <td>...</td>\n",
       "      <td>...</td>\n",
       "      <td>...</td>\n",
       "      <td>...</td>\n",
       "      <td>...</td>\n",
       "    </tr>\n",
       "    <tr>\n",
       "      <th>388230</th>\n",
       "      <td>28.42</td>\n",
       "      <td>25.85</td>\n",
       "      <td>34.30</td>\n",
       "      <td>1009</td>\n",
       "      <td>86</td>\n",
       "      <td>2.06</td>\n",
       "      <td>170</td>\n",
       "      <td>40</td>\n",
       "      <td>Mist</td>\n",
       "    </tr>\n",
       "    <tr>\n",
       "      <th>388231</th>\n",
       "      <td>28.27</td>\n",
       "      <td>26.09</td>\n",
       "      <td>34.23</td>\n",
       "      <td>1009</td>\n",
       "      <td>88</td>\n",
       "      <td>3.09</td>\n",
       "      <td>170</td>\n",
       "      <td>75</td>\n",
       "      <td>Mist</td>\n",
       "    </tr>\n",
       "    <tr>\n",
       "      <th>388232</th>\n",
       "      <td>28.18</td>\n",
       "      <td>26.38</td>\n",
       "      <td>34.32</td>\n",
       "      <td>1008</td>\n",
       "      <td>90</td>\n",
       "      <td>2.57</td>\n",
       "      <td>190</td>\n",
       "      <td>75</td>\n",
       "      <td>Mist</td>\n",
       "    </tr>\n",
       "    <tr>\n",
       "      <th>388233</th>\n",
       "      <td>28.18</td>\n",
       "      <td>26.38</td>\n",
       "      <td>34.32</td>\n",
       "      <td>1008</td>\n",
       "      <td>90</td>\n",
       "      <td>1.54</td>\n",
       "      <td>210</td>\n",
       "      <td>75</td>\n",
       "      <td>Mist</td>\n",
       "    </tr>\n",
       "    <tr>\n",
       "      <th>388234</th>\n",
       "      <td>28.04</td>\n",
       "      <td>26.62</td>\n",
       "      <td>34.24</td>\n",
       "      <td>1008</td>\n",
       "      <td>92</td>\n",
       "      <td>0.45</td>\n",
       "      <td>200</td>\n",
       "      <td>40</td>\n",
       "      <td>Mist</td>\n",
       "    </tr>\n",
       "  </tbody>\n",
       "</table>\n",
       "<p>388235 rows × 9 columns</p>\n",
       "</div>"
      ],
      "text/plain": [
       "         temp  dew_point  feels_like  pressure  humidity  wind_speed  \\\n",
       "0       23.70      21.59       24.42      1014        88        0.50   \n",
       "1       23.65      21.54       24.37      1014        88        0.50   \n",
       "2       23.25      20.97       23.90      1015        87        2.84   \n",
       "3       25.63      23.49       26.55      1016        88        1.00   \n",
       "4       25.70      23.56       26.62      1016        88        1.00   \n",
       "...       ...        ...         ...       ...       ...         ...   \n",
       "388230  28.42      25.85       34.30      1009        86        2.06   \n",
       "388231  28.27      26.09       34.23      1009        88        3.09   \n",
       "388232  28.18      26.38       34.32      1008        90        2.57   \n",
       "388233  28.18      26.38       34.32      1008        90        1.54   \n",
       "388234  28.04      26.62       34.24      1008        92        0.45   \n",
       "\n",
       "        wind_deg  clouds_all weather_main  \n",
       "0            360          20         Haze  \n",
       "1            360          20         Haze  \n",
       "2             28          18       Clouds  \n",
       "3            320          20       Clouds  \n",
       "4            320          20       Clouds  \n",
       "...          ...         ...          ...  \n",
       "388230       170          40         Mist  \n",
       "388231       170          75         Mist  \n",
       "388232       190          75         Mist  \n",
       "388233       210          75         Mist  \n",
       "388234       200          40         Mist  \n",
       "\n",
       "[388235 rows x 9 columns]"
      ]
     },
     "execution_count": 7,
     "metadata": {},
     "output_type": "execute_result"
    }
   ],
   "source": [
    "df.drop(columns = [\"temp_max\", \"temp_min\"])"
   ]
  },
  {
   "cell_type": "code",
   "execution_count": 8,
   "metadata": {},
   "outputs": [],
   "source": [
    "cols = df.columns"
   ]
  },
  {
   "cell_type": "code",
   "execution_count": 9,
   "metadata": {},
   "outputs": [],
   "source": [
    "X = df\n",
    "y = df['weather_main']"
   ]
  },
  {
   "cell_type": "code",
   "execution_count": 10,
   "metadata": {},
   "outputs": [],
   "source": [
    "from sklearn.preprocessing import LabelEncoder\n",
    "le = LabelEncoder()\n",
    "X['weather_main'] = le.fit_transform(X['weather_main'])\n",
    "y = le.transform(y)"
   ]
  },
  {
   "cell_type": "code",
   "execution_count": 11,
   "metadata": {},
   "outputs": [],
   "source": [
    "from sklearn.preprocessing import MinMaxScaler\n",
    "ms = MinMaxScaler()\n",
    "X = ms.fit_transform(df)\n",
    "X = pd.DataFrame(X, columns = [cols])"
   ]
  },
  {
   "cell_type": "code",
   "execution_count": 12,
   "metadata": {},
   "outputs": [
    {
     "data": {
      "text/html": [
       "<div>\n",
       "<style scoped>\n",
       "    .dataframe tbody tr th:only-of-type {\n",
       "        vertical-align: middle;\n",
       "    }\n",
       "\n",
       "    .dataframe tbody tr th {\n",
       "        vertical-align: top;\n",
       "    }\n",
       "\n",
       "    .dataframe thead tr th {\n",
       "        text-align: left;\n",
       "    }\n",
       "</style>\n",
       "<table border=\"1\" class=\"dataframe\">\n",
       "  <thead>\n",
       "    <tr>\n",
       "      <th></th>\n",
       "      <th>temp</th>\n",
       "      <th>dew_point</th>\n",
       "      <th>feels_like</th>\n",
       "      <th>temp_min</th>\n",
       "      <th>temp_max</th>\n",
       "      <th>pressure</th>\n",
       "      <th>humidity</th>\n",
       "      <th>wind_speed</th>\n",
       "      <th>wind_deg</th>\n",
       "      <th>clouds_all</th>\n",
       "      <th>weather_main</th>\n",
       "    </tr>\n",
       "  </thead>\n",
       "  <tbody>\n",
       "    <tr>\n",
       "      <th>0</th>\n",
       "      <td>0.243779</td>\n",
       "      <td>0.719502</td>\n",
       "      <td>0.211401</td>\n",
       "      <td>0.182903</td>\n",
       "      <td>0.266845</td>\n",
       "      <td>0.658385</td>\n",
       "      <td>0.868132</td>\n",
       "      <td>0.011312</td>\n",
       "      <td>1.000000</td>\n",
       "      <td>0.20</td>\n",
       "      <td>0.454545</td>\n",
       "    </tr>\n",
       "    <tr>\n",
       "      <th>1</th>\n",
       "      <td>0.241670</td>\n",
       "      <td>0.718087</td>\n",
       "      <td>0.209772</td>\n",
       "      <td>0.182903</td>\n",
       "      <td>0.266080</td>\n",
       "      <td>0.658385</td>\n",
       "      <td>0.868132</td>\n",
       "      <td>0.011312</td>\n",
       "      <td>1.000000</td>\n",
       "      <td>0.20</td>\n",
       "      <td>0.454545</td>\n",
       "    </tr>\n",
       "    <tr>\n",
       "      <th>2</th>\n",
       "      <td>0.224800</td>\n",
       "      <td>0.701953</td>\n",
       "      <td>0.194463</td>\n",
       "      <td>0.270775</td>\n",
       "      <td>0.204058</td>\n",
       "      <td>0.664596</td>\n",
       "      <td>0.857143</td>\n",
       "      <td>0.064253</td>\n",
       "      <td>0.077778</td>\n",
       "      <td>0.18</td>\n",
       "      <td>0.090909</td>\n",
       "    </tr>\n",
       "    <tr>\n",
       "      <th>3</th>\n",
       "      <td>0.325179</td>\n",
       "      <td>0.773280</td>\n",
       "      <td>0.280782</td>\n",
       "      <td>0.262425</td>\n",
       "      <td>0.331547</td>\n",
       "      <td>0.670807</td>\n",
       "      <td>0.868132</td>\n",
       "      <td>0.022624</td>\n",
       "      <td>0.888889</td>\n",
       "      <td>0.20</td>\n",
       "      <td>0.090909</td>\n",
       "    </tr>\n",
       "    <tr>\n",
       "      <th>4</th>\n",
       "      <td>0.328132</td>\n",
       "      <td>0.775262</td>\n",
       "      <td>0.283062</td>\n",
       "      <td>0.262425</td>\n",
       "      <td>0.328867</td>\n",
       "      <td>0.670807</td>\n",
       "      <td>0.868132</td>\n",
       "      <td>0.022624</td>\n",
       "      <td>0.888889</td>\n",
       "      <td>0.20</td>\n",
       "      <td>0.090909</td>\n",
       "    </tr>\n",
       "  </tbody>\n",
       "</table>\n",
       "</div>"
      ],
      "text/plain": [
       "       temp dew_point feels_like  temp_min  temp_max  pressure  humidity  \\\n",
       "0  0.243779  0.719502   0.211401  0.182903  0.266845  0.658385  0.868132   \n",
       "1  0.241670  0.718087   0.209772  0.182903  0.266080  0.658385  0.868132   \n",
       "2  0.224800  0.701953   0.194463  0.270775  0.204058  0.664596  0.857143   \n",
       "3  0.325179  0.773280   0.280782  0.262425  0.331547  0.670807  0.868132   \n",
       "4  0.328132  0.775262   0.283062  0.262425  0.328867  0.670807  0.868132   \n",
       "\n",
       "  wind_speed  wind_deg clouds_all weather_main  \n",
       "0   0.011312  1.000000       0.20     0.454545  \n",
       "1   0.011312  1.000000       0.20     0.454545  \n",
       "2   0.064253  0.077778       0.18     0.090909  \n",
       "3   0.022624  0.888889       0.20     0.090909  \n",
       "4   0.022624  0.888889       0.20     0.090909  "
      ]
     },
     "execution_count": 12,
     "metadata": {},
     "output_type": "execute_result"
    }
   ],
   "source": [
    "X.head()"
   ]
  },
  {
   "cell_type": "code",
   "execution_count": 13,
   "metadata": {},
   "outputs": [
    {
     "data": {
      "text/html": [
       "<style>#sk-container-id-1 {color: black;background-color: white;}#sk-container-id-1 pre{padding: 0;}#sk-container-id-1 div.sk-toggleable {background-color: white;}#sk-container-id-1 label.sk-toggleable__label {cursor: pointer;display: block;width: 100%;margin-bottom: 0;padding: 0.3em;box-sizing: border-box;text-align: center;}#sk-container-id-1 label.sk-toggleable__label-arrow:before {content: \"▸\";float: left;margin-right: 0.25em;color: #696969;}#sk-container-id-1 label.sk-toggleable__label-arrow:hover:before {color: black;}#sk-container-id-1 div.sk-estimator:hover label.sk-toggleable__label-arrow:before {color: black;}#sk-container-id-1 div.sk-toggleable__content {max-height: 0;max-width: 0;overflow: hidden;text-align: left;background-color: #f0f8ff;}#sk-container-id-1 div.sk-toggleable__content pre {margin: 0.2em;color: black;border-radius: 0.25em;background-color: #f0f8ff;}#sk-container-id-1 input.sk-toggleable__control:checked~div.sk-toggleable__content {max-height: 200px;max-width: 100%;overflow: auto;}#sk-container-id-1 input.sk-toggleable__control:checked~label.sk-toggleable__label-arrow:before {content: \"▾\";}#sk-container-id-1 div.sk-estimator input.sk-toggleable__control:checked~label.sk-toggleable__label {background-color: #d4ebff;}#sk-container-id-1 div.sk-label input.sk-toggleable__control:checked~label.sk-toggleable__label {background-color: #d4ebff;}#sk-container-id-1 input.sk-hidden--visually {border: 0;clip: rect(1px 1px 1px 1px);clip: rect(1px, 1px, 1px, 1px);height: 1px;margin: -1px;overflow: hidden;padding: 0;position: absolute;width: 1px;}#sk-container-id-1 div.sk-estimator {font-family: monospace;background-color: #f0f8ff;border: 1px dotted black;border-radius: 0.25em;box-sizing: border-box;margin-bottom: 0.5em;}#sk-container-id-1 div.sk-estimator:hover {background-color: #d4ebff;}#sk-container-id-1 div.sk-parallel-item::after {content: \"\";width: 100%;border-bottom: 1px solid gray;flex-grow: 1;}#sk-container-id-1 div.sk-label:hover label.sk-toggleable__label {background-color: #d4ebff;}#sk-container-id-1 div.sk-serial::before {content: \"\";position: absolute;border-left: 1px solid gray;box-sizing: border-box;top: 0;bottom: 0;left: 50%;z-index: 0;}#sk-container-id-1 div.sk-serial {display: flex;flex-direction: column;align-items: center;background-color: white;padding-right: 0.2em;padding-left: 0.2em;position: relative;}#sk-container-id-1 div.sk-item {position: relative;z-index: 1;}#sk-container-id-1 div.sk-parallel {display: flex;align-items: stretch;justify-content: center;background-color: white;position: relative;}#sk-container-id-1 div.sk-item::before, #sk-container-id-1 div.sk-parallel-item::before {content: \"\";position: absolute;border-left: 1px solid gray;box-sizing: border-box;top: 0;bottom: 0;left: 50%;z-index: -1;}#sk-container-id-1 div.sk-parallel-item {display: flex;flex-direction: column;z-index: 1;position: relative;background-color: white;}#sk-container-id-1 div.sk-parallel-item:first-child::after {align-self: flex-end;width: 50%;}#sk-container-id-1 div.sk-parallel-item:last-child::after {align-self: flex-start;width: 50%;}#sk-container-id-1 div.sk-parallel-item:only-child::after {width: 0;}#sk-container-id-1 div.sk-dashed-wrapped {border: 1px dashed gray;margin: 0 0.4em 0.5em 0.4em;box-sizing: border-box;padding-bottom: 0.4em;background-color: white;}#sk-container-id-1 div.sk-label label {font-family: monospace;font-weight: bold;display: inline-block;line-height: 1.2em;}#sk-container-id-1 div.sk-label-container {text-align: center;}#sk-container-id-1 div.sk-container {/* jupyter's `normalize.less` sets `[hidden] { display: none; }` but bootstrap.min.css set `[hidden] { display: none !important; }` so we also need the `!important` here to be able to override the default hidden behavior on the sphinx rendered scikit-learn.org. See: https://github.com/scikit-learn/scikit-learn/issues/21755 */display: inline-block !important;position: relative;}#sk-container-id-1 div.sk-text-repr-fallback {display: none;}</style><div id=\"sk-container-id-1\" class=\"sk-top-container\"><div class=\"sk-text-repr-fallback\"><pre>KMeans(n_clusters=2, random_state=0)</pre><b>In a Jupyter environment, please rerun this cell to show the HTML representation or trust the notebook. <br />On GitHub, the HTML representation is unable to render, please try loading this page with nbviewer.org.</b></div><div class=\"sk-container\" hidden><div class=\"sk-item\"><div class=\"sk-estimator sk-toggleable\"><input class=\"sk-toggleable__control sk-hidden--visually\" id=\"sk-estimator-id-1\" type=\"checkbox\" checked><label for=\"sk-estimator-id-1\" class=\"sk-toggleable__label sk-toggleable__label-arrow\">KMeans</label><div class=\"sk-toggleable__content\"><pre>KMeans(n_clusters=2, random_state=0)</pre></div></div></div></div></div>"
      ],
      "text/plain": [
       "KMeans(n_clusters=2, random_state=0)"
      ]
     },
     "execution_count": 13,
     "metadata": {},
     "output_type": "execute_result"
    }
   ],
   "source": [
    "from sklearn.cluster import KMeans\n",
    "kmeans = KMeans(n_clusters=2, random_state=0) \n",
    "kmeans.fit(X)"
   ]
  },
  {
   "cell_type": "code",
   "execution_count": 14,
   "metadata": {},
   "outputs": [
    {
     "data": {
      "text/plain": [
       "array([[0.46997784, 0.75394307, 0.47548091, 0.46903683, 0.47070608,\n",
       "        0.61475924, 0.67957976, 0.07186647, 0.60988153, 0.45012234,\n",
       "        0.19157774],\n",
       "       [0.35288979, 0.73060492, 0.32358546, 0.35918196, 0.35361234,\n",
       "        0.64223509, 0.76260892, 0.04154052, 0.11791414, 0.36429086,\n",
       "        0.27733725]])"
      ]
     },
     "execution_count": 14,
     "metadata": {},
     "output_type": "execute_result"
    }
   ],
   "source": [
    "kmeans.cluster_centers_"
   ]
  },
  {
   "cell_type": "code",
   "execution_count": 15,
   "metadata": {},
   "outputs": [
    {
     "data": {
      "text/plain": [
       "92278.48245672368"
      ]
     },
     "execution_count": 15,
     "metadata": {},
     "output_type": "execute_result"
    }
   ],
   "source": [
    "kmeans.inertia_"
   ]
  },
  {
   "cell_type": "code",
   "execution_count": 16,
   "metadata": {},
   "outputs": [
    {
     "name": "stdout",
     "output_type": "stream",
     "text": [
      "Result: 93347 out of 388235 samples were correctly labeled.\n"
     ]
    }
   ],
   "source": [
    "labels = kmeans.labels_\n",
    "correct_labels = sum(y == labels)\n",
    "print(\"Result: %d out of %d samples were correctly labeled.\" % (correct_labels, y.size))"
   ]
  },
  {
   "cell_type": "code",
   "execution_count": 17,
   "metadata": {},
   "outputs": [
    {
     "name": "stdout",
     "output_type": "stream",
     "text": [
      "Accuracy score: 0.2404\n"
     ]
    }
   ],
   "source": [
    "print('Accuracy score: {0:0.4f}'. format(correct_labels/float(y.size)))"
   ]
  },
  {
   "cell_type": "code",
   "execution_count": 18,
   "metadata": {},
   "outputs": [
    {
     "data": {
      "image/png": "[encoded data removed]",
      "text/plain": [
       "<Figure size 432x288 with 1 Axes>"
      ]
     },
     "metadata": {
      "needs_background": "light"
     },
     "output_type": "display_data"
    }
   ],
   "source": [
    "from sklearn.cluster import KMeans\n",
    "cs = []\n",
    "for i in range(1, 11):\n",
    "    kmeans = KMeans(n_clusters = i, init = 'k-means++', max_iter = 300, n_init = 10, random_state = 0)\n",
    "    kmeans.fit(X)\n",
    "    cs.append(kmeans.inertia_)\n",
    "plt.plot(range(1, 11), cs)\n",
    "plt.title('The Elbow Method')\n",
    "plt.xlabel('Number of clusters')\n",
    "plt.ylabel('CS')\n",
    "plt.show()"
   ]
  },
  {
   "cell_type": "code",
   "execution_count": 20,
   "metadata": {},
   "outputs": [
    {
     "name": "stdout",
     "output_type": "stream",
     "text": [
      "Result: 118395 out of 388235 samples were correctly labeled.\n",
      "Accuracy score: 0.3050\n"
     ]
    }
   ],
   "source": [
    "kmeans = KMeans(n_clusters=3, random_state=0)\n",
    "kmeans.fit(X)\n",
    "labels = kmeans.labels_\n",
    "correct_labels = sum(y == labels)\n",
    "print(\"Result: %d out of %d samples were correctly labeled.\" % (correct_labels, y.size))\n",
    "print('Accuracy score: {0:0.4f}'. format(correct_labels/float(y.size)))"
   ]
  }
 ],
 "metadata": {
  "interpreter": {
   "hash": "916dbcbb3f70747c44a77c7bcd40155683ae19c65e1c03b4aa3499c5328201f1"
  },
  "kernelspec": {
   "display_name": "Python 3.8.10 64-bit",
   "language": "python",
   "name": "python3"
  },
  "language_info": {
   "codemirror_mode": {
    "name": "ipython",
    "version": 3
   },
   "file_extension": ".py",
   "mimetype": "text/x-python",
   "name": "python",
   "nbconvert_exporter": "python",
   "pygments_lexer": "ipython3",
   "version": "3.8.10"
  },
  "orig_nbformat": 4
 },
 "nbformat": 4,
 "nbformat_minor": 2
}
